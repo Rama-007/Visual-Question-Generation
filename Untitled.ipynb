{
 "cells": [
  {
   "cell_type": "code",
   "execution_count": 1,
   "metadata": {
    "collapsed": false
   },
   "outputs": [
    {
     "name": "stderr",
     "output_type": "stream",
     "text": [
      "Using TensorFlow backend.\n"
     ]
    }
   ],
   "source": [
    "import math\n",
    "import os\n",
    "import tensorflow as tf\n",
    "import numpy as np\n",
    "import cPickle\n",
    "import skimage\n",
    "import pprint\n",
    "import tensorflow.python.platform\n",
    "from keras.preprocessing import sequence\n",
    "from data_loader import *\n",
    "import vgg19\n",
    "import question_generator\n",
    "\n",
    "\n",
    "from keras.models import Sequential, Model, load_model\n",
    "from keras.layers import InputLayer, Dense, Dropout, Flatten, Input, MaxPooling1D, Convolution1D, Embedding, TimeDistributed, Bidirectional\n",
    "from keras.layers.core import Dense, Dropout, Activation\n",
    "from keras.layers.embeddings import Embedding\n",
    "from keras.layers.merge import Concatenate, Multiply, Add \n",
    "from keras.layers.recurrent import LSTM, SimpleRNN, GRU \n",
    "from keras.regularizers import l2\n",
    "from keras import backend as K\n",
    "from keras.engine.topology import Layer\n",
    "from keras import initializers\n",
    "from keras.layers import (Dense, Embedding, GRU, Input, LSTM, RepeatVector,\n",
    "                          TimeDistributed)\n",
    "from keras.layers.merge import Concatenate\n",
    "from keras.layers.normalization import BatchNormalization\n",
    "from keras.layers.wrappers import Bidirectional\n",
    "from keras.optimizers import Adam\n",
    "from keras.regularizers import l1_l2\n"
   ]
  },
  {
   "cell_type": "code",
   "execution_count": null,
   "metadata": {
    "collapsed": true
   },
   "outputs": [],
   "source": []
  },
  {
   "cell_type": "code",
   "execution_count": 2,
   "metadata": {
    "collapsed": true
   },
   "outputs": [],
   "source": [
    "def read_image(path):\n",
    "\timg = crop_image(path, target_height=224, target_width=224)\n",
    "\tif img.shape[2] == 4:\n",
    "\t img = img[:,:,:3]\n",
    "\n",
    "\timg = img[None, ...]\n",
    "\treturn img"
   ]
  },
  {
   "cell_type": "code",
   "execution_count": 2,
   "metadata": {
    "collapsed": false
   },
   "outputs": [
    {
     "name": "stdout",
     "output_type": "stream",
     "text": [
      "loading json file...\n",
      "loading image feature...\n",
      "loading h5 file...\n",
      "Normalizing image feature\n",
      "215359\n"
     ]
    },
    {
     "data": {
      "text/plain": [
       "['length_q', 'img_list', 'question']"
      ]
     },
     "execution_count": 2,
     "metadata": {},
     "output_type": "execute_result"
    }
   ],
   "source": [
    "dataset, img_features, train_data = get_data(\"data_prepro.json\",\"data_img.h5\",\"data_prepro.h5\",1);\n",
    "max_token_len=26;\n",
    "dim_image=4096;\n",
    "vocab_size=len(dataset['ix_to_word'].keys())\n",
    "num_train = train_data['question'].shape[0]\n",
    "n_words = len(dataset['ix_to_word'].keys())\n",
    "print(len(train_data['question']))\n",
    "train_data.keys()\n"
   ]
  },
  {
   "cell_type": "code",
   "execution_count": 11,
   "metadata": {
    "collapsed": true
   },
   "outputs": [],
   "source": [
    "diction={}\n",
    "for i in dataset['ix_to_word'].keys():\n",
    "    diction[dataset['ix_to_word'][i]]=i"
   ]
  },
  {
   "cell_type": "code",
   "execution_count": 13,
   "metadata": {
    "collapsed": false
   },
   "outputs": [
    {
     "name": "stdout",
     "output_type": "stream",
     "text": [
      "215359\n",
      "215359\n"
     ]
    }
   ],
   "source": [
    "train_data.keys()\n",
    "print(len(train_data['question']))\n",
    "print(len(train_data['img_list']))"
   ]
  },
  {
   "cell_type": "code",
   "execution_count": 14,
   "metadata": {
    "collapsed": false
   },
   "outputs": [
    {
     "data": {
      "text/plain": [
       "24715"
      ]
     },
     "execution_count": 14,
     "metadata": {},
     "output_type": "execute_result"
    }
   ],
   "source": [
    "train_data['img_list'][0]"
   ]
  },
  {
   "cell_type": "code",
   "execution_count": null,
   "metadata": {
    "collapsed": true
   },
   "outputs": [],
   "source": []
  },
  {
   "cell_type": "code",
   "execution_count": null,
   "metadata": {
    "collapsed": true
   },
   "outputs": [],
   "source": []
  }
 ],
 "metadata": {
  "kernelspec": {
   "display_name": "Python 2",
   "language": "python",
   "name": "python2"
  },
  "language_info": {
   "codemirror_mode": {
    "name": "ipython",
    "version": 2
   },
   "file_extension": ".py",
   "mimetype": "text/x-python",
   "name": "python",
   "nbconvert_exporter": "python",
   "pygments_lexer": "ipython2",
   "version": "2.7.12"
  }
 },
 "nbformat": 4,
 "nbformat_minor": 2
}
